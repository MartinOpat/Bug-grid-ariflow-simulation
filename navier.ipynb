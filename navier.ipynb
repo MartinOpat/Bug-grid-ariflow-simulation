{
 "cells": [
  {
   "cell_type": "code",
   "execution_count": 1,
   "metadata": {},
   "outputs": [],
   "source": [
    "import numpy as np\n",
    "import matplotlib.pyplot as plt\n",
    "import pde\n",
    "import os\n"
   ]
  },
  {
   "cell_type": "code",
   "execution_count": null,
   "metadata": {},
   "outputs": [],
   "source": []
  },
  {
   "cell_type": "markdown",
   "metadata": {},
   "source": [
    "# Boundary conditions test"
   ]
  },
  {
   "cell_type": "code",
   "execution_count": 2,
   "metadata": {},
   "outputs": [],
   "source": [
    "class CustomPDE(pde.PDEBase):\n",
    "\n",
    "    def __init__(self, bc, boundary_mask):\n",
    "        array_shape = (20, 10, 10)\n",
    "        # self.x_component_array = np.arange(array_shape[0]).reshape(array_shape[0], 1, 1) * np.ones(array_shape[1:])\n",
    "        self.bc = bc\n",
    "        self.boundary_mask = boundary_mask\n",
    "\n",
    "        # array_shape = (20, 10, 10)\n",
    "        # x_component_array = np.arange(array_shape[0]).reshape(array_shape[0], 1, 1) * np.ones(array_shape[1:])\n",
    "\n",
    "        # # Create a new array for the vectors\n",
    "        # self.vector_array = np.zeros((3, 20, 10, 10))\n",
    "\n",
    "        # # Fill in the x-component and set y and z components to zero\n",
    "        # self.vector_array[0] = x_component_array  # x component\n",
    "        # y and z components remain zero by default\n",
    "\n",
    "        # This is the correct of ones only in the x-direction\n",
    "        self.vector_array = np.zeros((3, 20, 10, 10))\n",
    "\n",
    "        # Set 1 in the x-direction from 9 to 11\n",
    "        self.vector_array[0, 9:11, :, :] = 1\n",
    "\n",
    "\n",
    "    def evolution_rate(self, state, t=0):\n",
    "        \"\"\" Custom PDE evolution with modified diffusion rate \"\"\"\n",
    "        # laplacian = state.laplace(bc={\"value\": 0})  # zero Dirichlet boundary condition\n",
    "        # rate = laplacian.copy()  # Default rate inside the grid\n",
    "        \n",
    "        # Reduce the rate of diffusion at grid to a quarter\n",
    "        # rate.data[self.boundary_mask] *= 0.25\n",
    "        # state.data[:, np.logical_not(self.boundary_mask)] = 0\n",
    "        shear_viscosity = 2\n",
    "        bulk_viscosity = 10\n",
    "        f_u = state.dot(state.gradient(bc=self.bc)) - shear_viscosity * state.laplace(bc=self.bc) \\\n",
    "                - (bulk_viscosity + shear_viscosity/3) * state.divergence(bc=self.bc).gradient(bc=self.bc) \n",
    "\n",
    "        ans = -f_u - 0.000001 * self.vector_array\n",
    "        ans.data[:, self.boundary_mask] = 0\n",
    "        return ans\n"
   ]
  },
  {
   "cell_type": "code",
   "execution_count": 3,
   "metadata": {},
   "outputs": [
    {
     "name": "stdout",
     "output_type": "stream",
     "text": [
      "True\n",
      "[[False False False False False False False False False  True]\n",
      " [False False False False False False False False False  True]\n",
      " [False False False False False False False False False  True]\n",
      " [False False False False False False False False False  True]\n",
      " [False False False False False False False False False  True]\n",
      " [False False False False False False False False False  True]\n",
      " [False False False False False False False False False  True]\n",
      " [False False False False False False False False False  True]\n",
      " [False False False False False False False False False  True]\n",
      " [ True  True  True  True  True  True  True  True  True  True]]\n"
     ]
    },
    {
     "name": "stderr",
     "output_type": "stream",
     "text": [
      "WARNING: Could not find the Qt platform plugin \"wayland\" in \"\"\n"
     ]
    }
   ],
   "source": [
    "grid = pde.CartesianGrid([[0, 10], [0, 5], [0, 5]], [20, 10, 10], periodic=[False, False, False])\n",
    "field = pde.VectorField(grid, data=0)\n",
    "\n",
    "bc_x = ({\"value\": 0})\n",
    "\n",
    "\n",
    "# Define the mask for grid lines with thickness of 5 in 3D\n",
    "x, y, z = grid.cell_coords[..., 0], grid.cell_coords[..., 1], grid.cell_coords[..., 2]\n",
    "# print(x.shape)\n",
    "section_size = 10 // 3\n",
    "# print((4 <= x) & (x <= 6))\n",
    "y_width = 1\n",
    "y_count = 1\n",
    "z_width = 1\n",
    "z_count = 1\n",
    "boundary_mask = (\n",
    "    ((4 <= x) & (x <= 6)) &\n",
    "    # (((y % section_size <= 2) | (y % section_size >= section_size - 2)) |\n",
    "    # (((2 <= y) & (y <= 3)) |\n",
    "    # ((y%(y_width + y_count) <= y_width) |\n",
    "    ((y%(5/y_count+y_width/2) >= 5/y_count-y_width/2) |\n",
    "    # ((z % section_size <= 2) | (z % section_size >= section_size - 2)))\n",
    "    # ((2 <= z) & (z <= 3)))\n",
    "    # (z%(z_width + z_count) <= z_width))\n",
    "    (z%(5/z_count+z_width/2) >= 5/z_count-z_width/2))\n",
    ")\n",
    "print(boundary_mask.any())\n",
    "print(boundary_mask[10,:, :])\n",
    "\n",
    "\n",
    "\n",
    "# eq = CustomPDE(bc=[bc_x, bc_x, bc_x])\n",
    "eq = CustomPDE(bc=[bc_x, bc_x, bc_x], boundary_mask=boundary_mask)\n",
    "\n",
    "storage = pde.MemoryStorage()\n",
    "result = eq.solve(field, t_range=40, dt=0.01, tracker=storage.tracker(0.1))\n",
    "\n",
    "result.to_scalar(scalar='norm').plot_interactive()"
   ]
  },
  {
   "cell_type": "code",
   "execution_count": 4,
   "metadata": {},
   "outputs": [
    {
     "data": {
      "image/png": "[encoded data removed]",
      "text/plain": [
       "<Figure size 640x480 with 1 Axes>"
      ]
     },
     "metadata": {},
     "output_type": "display_data"
    }
   ],
   "source": [
    "# Cross-section\n",
    "def get_slice(storage, slice=32):\n",
    "    # Transform the 3D storage data to 2D slice at depth z\n",
    "    grid_size = [10, 10]\n",
    "    grid = pde.UnitGrid(grid_size)  \n",
    "    \n",
    "    new_data = []\n",
    "    for time in range(len(storage)):\n",
    "        # data=storage[time].data[:,:,slice]\n",
    "        norm = np.linalg.norm(storage[time].data, axis=0)\n",
    "        data=norm[slice, :, :]\n",
    "\n",
    "        new_data.append(data)\n",
    "    new_data = np.array(new_data)\n",
    "    field_obj = pde.ScalarField(grid, data=new_data[0])\n",
    "    res = pde.storage.memory.MemoryStorage(times=list(range(len(storage))), data=new_data, field_obj=field_obj)\n",
    "    # print(\"res\",res[0])\n",
    "        \n",
    "    return res\n",
    "\n",
    "## Usage\n",
    "\n",
    "new_storage = get_slice(storage, 8)\n",
    "# pde.movie(new_storage, filename=\"output3.mp4\", plot_args={\"vmin\": 0, \"vmax\": 0.00045}, movie_args={})\n",
    "\n",
    "# Plot average of slice vs time\n",
    "plt.plot(np.linspace(0, 40, 401), get_slice(storage, 10).data.mean(axis=(1, 2)))\n",
    "plt.show()\n"
   ]
  },
  {
   "cell_type": "code",
   "execution_count": 5,
   "metadata": {},
   "outputs": [],
   "source": []
  },
  {
   "cell_type": "code",
   "execution_count": null,
   "metadata": {},
   "outputs": [],
   "source": []
  },
  {
   "cell_type": "code",
   "execution_count": 5,
   "metadata": {},
   "outputs": [],
   "source": [
    "# grid = pde.CartesianGrid([[0, 10], [0, 5], [0, 5]], [20, 10, 10], periodic=[False, False, False])\n",
    "# field = pde.VectorField(grid, data=0)\n",
    "# field.insert((5,5,5), [0.001,0,0])\n",
    "# field.to_scalar(scalar='norm').plot_interactive()\n",
    "# eq = CustomPDE(boundary_mask=False)\n",
    "# result = eq.solve(field, t_range=60, dt=0.1)\n",
    "# result.to_scalar(scalar='norm').plot_interactive()"
   ]
  }
 ],
 "metadata": {
  "kernelspec": {
   "display_name": ".venv",
   "language": "python",
   "name": "python3"
  },
  "language_info": {
   "codemirror_mode": {
    "name": "ipython",
    "version": 3
   },
   "file_extension": ".py",
   "mimetype": "text/x-python",
   "name": "python",
   "nbconvert_exporter": "python",
   "pygments_lexer": "ipython3",
   "version": "3.10.12"
  }
 },
 "nbformat": 4,
 "nbformat_minor": 2
}
