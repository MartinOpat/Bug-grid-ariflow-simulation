{
 "cells": [
  {
   "cell_type": "code",
   "execution_count": 195,
   "metadata": {},
   "outputs": [],
   "source": [
    "import numpy as np\n",
    "import matplotlib.pyplot as plt\n",
    "import pde\n",
    "import os\n"
   ]
  },
  {
   "cell_type": "code",
   "execution_count": null,
   "metadata": {},
   "outputs": [],
   "source": []
  },
  {
   "cell_type": "markdown",
   "metadata": {},
   "source": [
    "# Boundary conditions test"
   ]
  },
  {
   "cell_type": "code",
   "execution_count": 196,
   "metadata": {},
   "outputs": [],
   "source": [
    "class CustomPDE(pde.PDEBase):\n",
    "\n",
    "    def __init__(self, bc, boundary_mask):\n",
    "        array_shape = (20, 10, 10)\n",
    "        # self.x_component_array = np.arange(array_shape[0]).reshape(array_shape[0], 1, 1) * np.ones(array_shape[1:])\n",
    "        self.bc = bc\n",
    "        self.boundary_mask = boundary_mask\n",
    "\n",
    "        # array_shape = (20, 10, 10)\n",
    "        # x_component_array = np.arange(array_shape[0]).reshape(array_shape[0], 1, 1) * np.ones(array_shape[1:])\n",
    "\n",
    "        # # Create a new array for the vectors\n",
    "        # self.vector_array = np.zeros((3, 20, 10, 10))\n",
    "\n",
    "        # # Fill in the x-component and set y and z components to zero\n",
    "        # self.vector_array[0] = x_component_array  # x component\n",
    "        # y and z components remain zero by default\n",
    "\n",
    "        # This is the correct of ones only in the x-direction\n",
    "        self.vector_array = np.zeros((3, 20, 10, 10))\n",
    "\n",
    "        # Set 1 in the x-direction from 9 to 11\n",
    "        self.vector_array[0, 9:11, :, :] = 1\n",
    "\n",
    "\n",
    "    def evolution_rate(self, state, t=0):\n",
    "        \"\"\" Custom PDE evolution with modified diffusion rate \"\"\"\n",
    "        # laplacian = state.laplace(bc={\"value\": 0})  # zero Dirichlet boundary condition\n",
    "        # rate = laplacian.copy()  # Default rate inside the grid\n",
    "        \n",
    "        # Reduce the rate of diffusion at grid to a quarter\n",
    "        # rate.data[self.boundary_mask] *= 0.25\n",
    "        # state.data[:, np.logical_not(self.boundary_mask)] = 0\n",
    "        shear_viscosity = 2\n",
    "        bulk_viscosity = 10\n",
    "        f_u = state.dot(state.gradient(bc=self.bc)) - shear_viscosity * state.laplace(bc=self.bc) \\\n",
    "                - (bulk_viscosity + shear_viscosity/3) * state.divergence(bc=self.bc).gradient(bc=self.bc) \n",
    "\n",
    "        ans = -f_u - 0.000001 * self.vector_array\n",
    "        ans.data[:, self.boundary_mask] = 0\n",
    "        return ans\n"
   ]
  },
  {
   "cell_type": "code",
   "execution_count": 197,
   "metadata": {},
   "outputs": [
    {
     "name": "stdout",
     "output_type": "stream",
     "text": [
      "True\n",
      "[[False False False ... False False False]\n",
      " [False False False ... False False False]\n",
      " [False False False ... False False False]\n",
      " ...\n",
      " [False False False ... False False False]\n",
      " [False False False ... False False False]\n",
      " [False False False ... False False False]]\n"
     ]
    },
    {
     "data": {
      "image/png": "[encoded data removed]",
      "text/plain": [
       "<Figure size 640x480 with 1 Axes>"
      ]
     },
     "metadata": {},
     "output_type": "display_data"
    },
    {
     "ename": "ValueError",
     "evalue": "operands could not be broadcast together with shapes (3,160,80,80) (3,20,10,10) (3,160,80,80) ",
     "output_type": "error",
     "traceback": [
      "\u001b[0;31m---------------------------------------------------------------------------\u001b[0m",
      "\u001b[0;31mValueError\u001b[0m                                Traceback (most recent call last)",
      "Cell \u001b[0;32mIn[197], line 40\u001b[0m\n\u001b[1;32m     37\u001b[0m eq \u001b[38;5;241m=\u001b[39m CustomPDE(bc\u001b[38;5;241m=\u001b[39m[bc_x, bc_x, bc_x], boundary_mask\u001b[38;5;241m=\u001b[39mboundary_mask)\n\u001b[1;32m     39\u001b[0m storage \u001b[38;5;241m=\u001b[39m pde\u001b[38;5;241m.\u001b[39mMemoryStorage()\n\u001b[0;32m---> 40\u001b[0m result \u001b[38;5;241m=\u001b[39m \u001b[43meq\u001b[49m\u001b[38;5;241;43m.\u001b[39;49m\u001b[43msolve\u001b[49m\u001b[43m(\u001b[49m\u001b[43mfield\u001b[49m\u001b[43m,\u001b[49m\u001b[43m \u001b[49m\u001b[43mt_range\u001b[49m\u001b[38;5;241;43m=\u001b[39;49m\u001b[38;5;241;43m40\u001b[39;49m\u001b[43m,\u001b[49m\u001b[43m \u001b[49m\u001b[43mdt\u001b[49m\u001b[38;5;241;43m=\u001b[39;49m\u001b[38;5;241;43m0.01\u001b[39;49m\u001b[43m,\u001b[49m\u001b[43m \u001b[49m\u001b[43mtracker\u001b[49m\u001b[38;5;241;43m=\u001b[39;49m\u001b[43mstorage\u001b[49m\u001b[38;5;241;43m.\u001b[39;49m\u001b[43mtracker\u001b[49m\u001b[43m(\u001b[49m\u001b[38;5;241;43m0.1\u001b[39;49m\u001b[43m)\u001b[49m\u001b[43m)\u001b[49m\n\u001b[1;32m     42\u001b[0m result\u001b[38;5;241m.\u001b[39mto_scalar(scalar\u001b[38;5;241m=\u001b[39m\u001b[38;5;124m'\u001b[39m\u001b[38;5;124mnorm\u001b[39m\u001b[38;5;124m'\u001b[39m)\u001b[38;5;241m.\u001b[39mplot_interactive()\n",
      "File \u001b[0;32m~/UniversityMaterials/MS/MS1-1a/m&s/repos/Bug-grid-ariflow-simulation/.venv/lib/python3.10/site-packages/pde/pdes/base.py:644\u001b[0m, in \u001b[0;36mPDEBase.solve\u001b[0;34m(self, state, t_range, dt, tracker, solver, ret_info, **kwargs)\u001b[0m\n\u001b[1;32m    642\u001b[0m \u001b[38;5;66;03m# run the simulation\u001b[39;00m\n\u001b[1;32m    643\u001b[0m \u001b[38;5;28;01mtry\u001b[39;00m:\n\u001b[0;32m--> 644\u001b[0m     final_state \u001b[38;5;241m=\u001b[39m \u001b[43mcontroller\u001b[49m\u001b[38;5;241;43m.\u001b[39;49m\u001b[43mrun\u001b[49m\u001b[43m(\u001b[49m\u001b[43mstate\u001b[49m\u001b[43m,\u001b[49m\u001b[43m \u001b[49m\u001b[43mdt\u001b[49m\u001b[43m)\u001b[49m\n\u001b[1;32m    645\u001b[0m \u001b[38;5;28;01mfinally\u001b[39;00m:\n\u001b[1;32m    646\u001b[0m     \u001b[38;5;66;03m# copy diagnostic information to the PDE instance\u001b[39;00m\n\u001b[1;32m    647\u001b[0m     \u001b[38;5;28;01mif\u001b[39;00m \u001b[38;5;28mhasattr\u001b[39m(\u001b[38;5;28mself\u001b[39m, \u001b[38;5;124m\"\u001b[39m\u001b[38;5;124mdiagnostics\u001b[39m\u001b[38;5;124m\"\u001b[39m):\n",
      "File \u001b[0;32m~/UniversityMaterials/MS/MS1-1a/m&s/repos/Bug-grid-ariflow-simulation/.venv/lib/python3.10/site-packages/pde/solvers/controller.py:332\u001b[0m, in \u001b[0;36mController.run\u001b[0;34m(self, initial_state, dt)\u001b[0m\n\u001b[1;32m    329\u001b[0m \u001b[38;5;66;03m# decide whether to call the main routine or whether this is an MPI client\u001b[39;00m\n\u001b[1;32m    330\u001b[0m \u001b[38;5;28;01mif\u001b[39;00m mpi\u001b[38;5;241m.\u001b[39mis_main:\n\u001b[1;32m    331\u001b[0m     \u001b[38;5;66;03m# this node is the primary one\u001b[39;00m\n\u001b[0;32m--> 332\u001b[0m     \u001b[38;5;28;43mself\u001b[39;49m\u001b[38;5;241;43m.\u001b[39;49m\u001b[43m_run_single\u001b[49m\u001b[43m(\u001b[49m\u001b[43mstate\u001b[49m\u001b[43m,\u001b[49m\u001b[43m \u001b[49m\u001b[43mdt\u001b[49m\u001b[43m)\u001b[49m\n\u001b[1;32m    333\u001b[0m     \u001b[38;5;28mself\u001b[39m\u001b[38;5;241m.\u001b[39minfo[\u001b[38;5;124m\"\u001b[39m\u001b[38;5;124mprocess_count\u001b[39m\u001b[38;5;124m\"\u001b[39m] \u001b[38;5;241m=\u001b[39m mpi\u001b[38;5;241m.\u001b[39msize\n\u001b[1;32m    334\u001b[0m \u001b[38;5;28;01melse\u001b[39;00m:\n\u001b[1;32m    335\u001b[0m     \u001b[38;5;66;03m# multiple processes are used and this is one of the secondaries\u001b[39;00m\n",
      "File \u001b[0;32m~/UniversityMaterials/MS/MS1-1a/m&s/repos/Bug-grid-ariflow-simulation/.venv/lib/python3.10/site-packages/pde/solvers/controller.py:211\u001b[0m, in \u001b[0;36mController._run_single\u001b[0;34m(self, state, dt)\u001b[0m\n\u001b[1;32m    208\u001b[0m profiler[\u001b[38;5;124m\"\u001b[39m\u001b[38;5;124mtracker\u001b[39m\u001b[38;5;124m\"\u001b[39m] \u001b[38;5;241m+\u001b[39m\u001b[38;5;241m=\u001b[39m prof_start_solve \u001b[38;5;241m-\u001b[39m prof_start_tracker\n\u001b[1;32m    210\u001b[0m \u001b[38;5;66;03m# advance the system to the new time point\u001b[39;00m\n\u001b[0;32m--> 211\u001b[0m t \u001b[38;5;241m=\u001b[39m \u001b[43mstepper\u001b[49m\u001b[43m(\u001b[49m\u001b[43mstate\u001b[49m\u001b[43m,\u001b[49m\u001b[43m \u001b[49m\u001b[43mt\u001b[49m\u001b[43m,\u001b[49m\u001b[43m \u001b[49m\u001b[43mt_break\u001b[49m\u001b[43m)\u001b[49m\n\u001b[1;32m    213\u001b[0m prof_start_tracker \u001b[38;5;241m=\u001b[39m get_time()\n\u001b[1;32m    214\u001b[0m profiler[\u001b[38;5;124m\"\u001b[39m\u001b[38;5;124msolver\u001b[39m\u001b[38;5;124m\"\u001b[39m] \u001b[38;5;241m+\u001b[39m\u001b[38;5;241m=\u001b[39m prof_start_tracker \u001b[38;5;241m-\u001b[39m prof_start_solve\n",
      "File \u001b[0;32m~/UniversityMaterials/MS/MS1-1a/m&s/repos/Bug-grid-ariflow-simulation/.venv/lib/python3.10/site-packages/pde/solvers/base.py:369\u001b[0m, in \u001b[0;36mSolverBase.make_stepper.<locals>.wrapped_stepper\u001b[0;34m(state, t_start, t_end)\u001b[0m\n\u001b[1;32m    367\u001b[0m steps \u001b[38;5;241m=\u001b[39m \u001b[38;5;28mmax\u001b[39m(\u001b[38;5;241m1\u001b[39m, \u001b[38;5;28mint\u001b[39m(np\u001b[38;5;241m.\u001b[39mceil((t_end \u001b[38;5;241m-\u001b[39m t_start) \u001b[38;5;241m/\u001b[39m dt_float)))\n\u001b[1;32m    368\u001b[0m \u001b[38;5;66;03m# call the stepper with fixed time steps\u001b[39;00m\n\u001b[0;32m--> 369\u001b[0m t_last \u001b[38;5;241m=\u001b[39m \u001b[43mfixed_stepper\u001b[49m\u001b[43m(\u001b[49m\u001b[43mstate\u001b[49m\u001b[38;5;241;43m.\u001b[39;49m\u001b[43mdata\u001b[49m\u001b[43m,\u001b[49m\u001b[43m \u001b[49m\u001b[43mt_start\u001b[49m\u001b[43m,\u001b[49m\u001b[43m \u001b[49m\u001b[43msteps\u001b[49m\u001b[43m,\u001b[49m\u001b[43m \u001b[49m\u001b[43mpost_step_data\u001b[49m\u001b[43m)\u001b[49m\n\u001b[1;32m    370\u001b[0m \u001b[38;5;66;03m# keep some stats and data\u001b[39;00m\n\u001b[1;32m    371\u001b[0m \u001b[38;5;28mself\u001b[39m\u001b[38;5;241m.\u001b[39minfo[\u001b[38;5;124m\"\u001b[39m\u001b[38;5;124msteps\u001b[39m\u001b[38;5;124m\"\u001b[39m] \u001b[38;5;241m+\u001b[39m\u001b[38;5;241m=\u001b[39m steps\n",
      "File \u001b[0;32m~/UniversityMaterials/MS/MS1-1a/m&s/repos/Bug-grid-ariflow-simulation/.venv/lib/python3.10/site-packages/pde/solvers/base.py:308\u001b[0m, in \u001b[0;36mSolverBase._make_fixed_stepper.<locals>.fixed_stepper\u001b[0;34m(state_data, t_start, steps, post_step_data)\u001b[0m\n\u001b[1;32m    305\u001b[0m \u001b[38;5;28;01mfor\u001b[39;00m i \u001b[38;5;129;01min\u001b[39;00m \u001b[38;5;28mrange\u001b[39m(steps):\n\u001b[1;32m    306\u001b[0m     \u001b[38;5;66;03m# calculate the right hand side\u001b[39;00m\n\u001b[1;32m    307\u001b[0m     t \u001b[38;5;241m=\u001b[39m t_start \u001b[38;5;241m+\u001b[39m i \u001b[38;5;241m*\u001b[39m dt\n\u001b[0;32m--> 308\u001b[0m     \u001b[43msingle_step\u001b[49m\u001b[43m(\u001b[49m\u001b[43mstate_data\u001b[49m\u001b[43m,\u001b[49m\u001b[43m \u001b[49m\u001b[43mt\u001b[49m\u001b[43m)\u001b[49m\n\u001b[1;32m    309\u001b[0m     post_step_hook(state_data, t, post_step_data)\n\u001b[1;32m    311\u001b[0m \u001b[38;5;28;01mreturn\u001b[39;00m t \u001b[38;5;241m+\u001b[39m dt\n",
      "File \u001b[0;32m~/UniversityMaterials/MS/MS1-1a/m&s/repos/Bug-grid-ariflow-simulation/.venv/lib/python3.10/site-packages/pde/solvers/explicit.py:95\u001b[0m, in \u001b[0;36mExplicitSolver._make_single_step_fixed_euler.<locals>.stepper\u001b[0;34m(state_data, t)\u001b[0m\n\u001b[1;32m     93\u001b[0m \u001b[38;5;28;01mdef\u001b[39;00m \u001b[38;5;21mstepper\u001b[39m(state_data: np\u001b[38;5;241m.\u001b[39mndarray, t: \u001b[38;5;28mfloat\u001b[39m) \u001b[38;5;241m-\u001b[39m\u001b[38;5;241m>\u001b[39m \u001b[38;5;28;01mNone\u001b[39;00m:\n\u001b[1;32m     94\u001b[0m \u001b[38;5;250m    \u001b[39m\u001b[38;5;124;03m\"\"\"Perform a single Euler step.\"\"\"\u001b[39;00m\n\u001b[0;32m---> 95\u001b[0m     state_data \u001b[38;5;241m+\u001b[39m\u001b[38;5;241m=\u001b[39m dt \u001b[38;5;241m*\u001b[39m \u001b[43mrhs_pde\u001b[49m\u001b[43m(\u001b[49m\u001b[43mstate_data\u001b[49m\u001b[43m,\u001b[49m\u001b[43m \u001b[49m\u001b[43mt\u001b[49m\u001b[43m)\u001b[49m\n",
      "File \u001b[0;32m~/UniversityMaterials/MS/MS1-1a/m&s/repos/Bug-grid-ariflow-simulation/.venv/lib/python3.10/site-packages/pde/pdes/base.py:309\u001b[0m, in \u001b[0;36mPDEBase.make_pde_rhs.<locals>.evolution_rate_numpy\u001b[0;34m(state_data, t)\u001b[0m\n\u001b[1;32m    307\u001b[0m \u001b[38;5;250m\u001b[39m\u001b[38;5;124;03m\"\"\"Evaluate the rhs given only a state without the grid.\"\"\"\u001b[39;00m\n\u001b[1;32m    308\u001b[0m state\u001b[38;5;241m.\u001b[39mdata \u001b[38;5;241m=\u001b[39m state_data\n\u001b[0;32m--> 309\u001b[0m \u001b[38;5;28;01mreturn\u001b[39;00m \u001b[38;5;28;43mself\u001b[39;49m\u001b[38;5;241;43m.\u001b[39;49m\u001b[43mevolution_rate\u001b[49m\u001b[43m(\u001b[49m\u001b[43mstate\u001b[49m\u001b[43m,\u001b[49m\u001b[43m \u001b[49m\u001b[43mt\u001b[49m\u001b[43m,\u001b[49m\u001b[43m \u001b[49m\u001b[38;5;241;43m*\u001b[39;49m\u001b[38;5;241;43m*\u001b[39;49m\u001b[43mkwargs\u001b[49m\u001b[43m)\u001b[49m\u001b[38;5;241m.\u001b[39mdata\n",
      "Cell \u001b[0;32mIn[196], line 39\u001b[0m, in \u001b[0;36mCustomPDE.evolution_rate\u001b[0;34m(self, state, t)\u001b[0m\n\u001b[1;32m     35\u001b[0m bulk_viscosity \u001b[38;5;241m=\u001b[39m \u001b[38;5;241m10\u001b[39m\n\u001b[1;32m     36\u001b[0m f_u \u001b[38;5;241m=\u001b[39m state\u001b[38;5;241m.\u001b[39mdot(state\u001b[38;5;241m.\u001b[39mgradient(bc\u001b[38;5;241m=\u001b[39m\u001b[38;5;28mself\u001b[39m\u001b[38;5;241m.\u001b[39mbc)) \u001b[38;5;241m-\u001b[39m shear_viscosity \u001b[38;5;241m*\u001b[39m state\u001b[38;5;241m.\u001b[39mlaplace(bc\u001b[38;5;241m=\u001b[39m\u001b[38;5;28mself\u001b[39m\u001b[38;5;241m.\u001b[39mbc) \\\n\u001b[1;32m     37\u001b[0m         \u001b[38;5;241m-\u001b[39m (bulk_viscosity \u001b[38;5;241m+\u001b[39m shear_viscosity\u001b[38;5;241m/\u001b[39m\u001b[38;5;241m3\u001b[39m) \u001b[38;5;241m*\u001b[39m state\u001b[38;5;241m.\u001b[39mdivergence(bc\u001b[38;5;241m=\u001b[39m\u001b[38;5;28mself\u001b[39m\u001b[38;5;241m.\u001b[39mbc)\u001b[38;5;241m.\u001b[39mgradient(bc\u001b[38;5;241m=\u001b[39m\u001b[38;5;28mself\u001b[39m\u001b[38;5;241m.\u001b[39mbc) \n\u001b[0;32m---> 39\u001b[0m ans \u001b[38;5;241m=\u001b[39m \u001b[38;5;241;43m-\u001b[39;49m\u001b[43mf_u\u001b[49m\u001b[43m \u001b[49m\u001b[38;5;241;43m-\u001b[39;49m\u001b[43m \u001b[49m\u001b[38;5;241;43m0.000001\u001b[39;49m\u001b[43m \u001b[49m\u001b[38;5;241;43m*\u001b[39;49m\u001b[43m \u001b[49m\u001b[38;5;28;43mself\u001b[39;49m\u001b[38;5;241;43m.\u001b[39;49m\u001b[43mvector_array\u001b[49m\n\u001b[1;32m     40\u001b[0m ans\u001b[38;5;241m.\u001b[39mdata[:, \u001b[38;5;28mself\u001b[39m\u001b[38;5;241m.\u001b[39mboundary_mask] \u001b[38;5;241m=\u001b[39m \u001b[38;5;241m0\u001b[39m\n\u001b[1;32m     41\u001b[0m \u001b[38;5;28;01mreturn\u001b[39;00m ans\n",
      "File \u001b[0;32m~/UniversityMaterials/MS/MS1-1a/m&s/repos/Bug-grid-ariflow-simulation/.venv/lib/python3.10/site-packages/pde/fields/base.py:574\u001b[0m, in \u001b[0;36mFieldBase.__sub__\u001b[0;34m(self, other)\u001b[0m\n\u001b[1;32m    572\u001b[0m \u001b[38;5;28;01mdef\u001b[39;00m \u001b[38;5;21m__sub__\u001b[39m(\u001b[38;5;28mself\u001b[39m, other) \u001b[38;5;241m-\u001b[39m\u001b[38;5;241m>\u001b[39m FieldBase:\n\u001b[1;32m    573\u001b[0m \u001b[38;5;250m    \u001b[39m\u001b[38;5;124;03m\"\"\"Subtract two fields.\"\"\"\u001b[39;00m\n\u001b[0;32m--> 574\u001b[0m     \u001b[38;5;28;01mreturn\u001b[39;00m \u001b[38;5;28;43mself\u001b[39;49m\u001b[38;5;241;43m.\u001b[39;49m\u001b[43m_binary_operation\u001b[49m\u001b[43m(\u001b[49m\u001b[43mother\u001b[49m\u001b[43m,\u001b[49m\u001b[43m \u001b[49m\u001b[43mnp\u001b[49m\u001b[38;5;241;43m.\u001b[39;49m\u001b[43msubtract\u001b[49m\u001b[43m,\u001b[49m\u001b[43m \u001b[49m\u001b[43mscalar_second\u001b[49m\u001b[38;5;241;43m=\u001b[39;49m\u001b[38;5;28;43;01mFalse\u001b[39;49;00m\u001b[43m)\u001b[49m\n",
      "File \u001b[0;32m~/UniversityMaterials/MS/MS1-1a/m&s/repos/Bug-grid-ariflow-simulation/.venv/lib/python3.10/site-packages/pde/fields/base.py:520\u001b[0m, in \u001b[0;36mFieldBase._binary_operation\u001b[0;34m(self, other, op, scalar_second)\u001b[0m\n\u001b[1;32m    518\u001b[0m     dtype \u001b[38;5;241m=\u001b[39m np\u001b[38;5;241m.\u001b[39mresult_type(\u001b[38;5;28mself\u001b[39m\u001b[38;5;241m.\u001b[39mdata, other)\n\u001b[1;32m    519\u001b[0m     result \u001b[38;5;241m=\u001b[39m \u001b[38;5;28mself\u001b[39m\u001b[38;5;241m.\u001b[39mcopy(dtype\u001b[38;5;241m=\u001b[39mdtype)\n\u001b[0;32m--> 520\u001b[0m     \u001b[43mop\u001b[49m\u001b[43m(\u001b[49m\u001b[38;5;28;43mself\u001b[39;49m\u001b[38;5;241;43m.\u001b[39;49m\u001b[43mdata\u001b[49m\u001b[43m,\u001b[49m\u001b[43m \u001b[49m\u001b[43mother\u001b[49m\u001b[43m,\u001b[49m\u001b[43m \u001b[49m\u001b[43mout\u001b[49m\u001b[38;5;241;43m=\u001b[39;49m\u001b[43mresult\u001b[49m\u001b[38;5;241;43m.\u001b[39;49m\u001b[43mdata\u001b[49m\u001b[43m)\u001b[49m\n\u001b[1;32m    522\u001b[0m \u001b[38;5;28;01mreturn\u001b[39;00m result\n",
      "\u001b[0;31mValueError\u001b[0m: operands could not be broadcast together with shapes (3,160,80,80) (3,20,10,10) (3,160,80,80) "
     ]
    }
   ],
   "source": [
    "grid = pde.CartesianGrid([[0, 10], [0, 5], [0, 5]], [160, 80, 80], periodic=[False, False, False])\n",
    "field = pde.VectorField(grid, data=0)\n",
    "\n",
    "bc_x = ({\"value\": 0})\n",
    "\n",
    "\n",
    "# Define the mask for grid lines with thickness of 5 in 3D\n",
    "x, y, z = grid.cell_coords[..., 0], grid.cell_coords[..., 1], grid.cell_coords[..., 2]\n",
    "# print(x.shape)\n",
    "section_size = 10 // 3\n",
    "# print((4 <= x) & (x <= 6))\n",
    "y_width = 0.1\n",
    "y_count = 10\n",
    "z_width = 0.1\n",
    "z_count = 10\n",
    "boundary_mask = (\n",
    "    ((4 <= x) & (x <= 6)) &\n",
    "    # (((y % section_size <= 2) | (y % section_size >= section_size - 2)) |\n",
    "    # (((2 <= y) & (y <= 3)) |\n",
    "    # ((y%(y_width + y_count) <= y_width) |\n",
    "    ((y%(5/y_count) >= 5/y_count-y_width/2) | (y%(5/y_count) <= y_width/2) |\n",
    "    # ((z % section_size <= 2) | (z % section_size >= section_size - 2)))\n",
    "    # ((2 <= z) & (z <= 3)))\n",
    "    # (z%(z_width + z_count) <= z_width))\n",
    "    (z%(5/z_count) >= 5/z_count-z_width/2) | (z%(5/z_count) <= z_width/2))\n",
    ")\n",
    "print(boundary_mask.any())\n",
    "print(boundary_mask[20,:, :])\n",
    "\n",
    "# Plot the boundary mask on a 2d plot with false = 0 and true = 1\n",
    "plt.imshow(boundary_mask[80,:, :])\n",
    "plt.show()\n",
    "\n",
    "\n",
    "\n",
    "# eq = CustomPDE(bc=[bc_x, bc_x, bc_x])\n",
    "eq = CustomPDE(bc=[bc_x, bc_x, bc_x], boundary_mask=boundary_mask)\n",
    "\n",
    "storage = pde.MemoryStorage()\n",
    "result = eq.solve(field, t_range=40, dt=0.01, tracker=storage.tracker(0.1))\n",
    "\n",
    "result.to_scalar(scalar='norm').plot_interactive()"
   ]
  },
  {
   "cell_type": "code",
   "execution_count": 64,
   "metadata": {},
   "outputs": [
    {
     "data": {
      "image/png": "[encoded data removed]",
      "text/plain": [
       "<Figure size 640x480 with 1 Axes>"
      ]
     },
     "metadata": {},
     "output_type": "display_data"
    }
   ],
   "source": [
    "# Cross-section\n",
    "def get_slice(storage, slice=32):\n",
    "    # Transform the 3D storage data to 2D slice at depth z\n",
    "    grid_size = [10, 10]\n",
    "    grid = pde.UnitGrid(grid_size)  \n",
    "    \n",
    "    new_data = []\n",
    "    for time in range(len(storage)):\n",
    "        # data=storage[time].data[:,:,slice]\n",
    "        norm = np.linalg.norm(storage[time].data, axis=0)\n",
    "        data=norm[slice, :, :]\n",
    "\n",
    "        new_data.append(data)\n",
    "    new_data = np.array(new_data)\n",
    "    field_obj = pde.ScalarField(grid, data=new_data[0])\n",
    "    res = pde.storage.memory.MemoryStorage(times=list(range(len(storage))), data=new_data, field_obj=field_obj)\n",
    "    # print(\"res\",res[0])\n",
    "        \n",
    "    return res\n",
    "\n",
    "## Usage\n",
    "\n",
    "new_storage = get_slice(storage, 5)\n",
    "# pde.movie(new_storage, filename=\"output3.mp4\", plot_args={}, movie_args={})\n",
    "\n",
    "# Plot average of slice vs time\n",
    "plt.plot(np.linspace(0, 40, 401), get_slice(storage, 10).data.mean(axis=(1, 2)))\n",
    "plt.show()\n"
   ]
  },
  {
   "cell_type": "code",
   "execution_count": 5,
   "metadata": {},
   "outputs": [],
   "source": []
  },
  {
   "cell_type": "code",
   "execution_count": null,
   "metadata": {},
   "outputs": [],
   "source": []
  },
  {
   "cell_type": "code",
   "execution_count": 65,
   "metadata": {},
   "outputs": [],
   "source": [
    "# grid = pde.CartesianGrid([[0, 10], [0, 5], [0, 5]], [20, 10, 10], periodic=[False, False, False])\n",
    "# field = pde.VectorField(grid, data=0)\n",
    "# field.insert((5,5,5), [0.001,0,0])\n",
    "# field.to_scalar(scalar='norm').plot_interactive()\n",
    "# eq = CustomPDE(boundary_mask=False)\n",
    "# result = eq.solve(field, t_range=60, dt=0.1)\n",
    "# result.to_scalar(scalar='norm').plot_interactive()"
   ]
  }
 ],
 "metadata": {
  "kernelspec": {
   "display_name": ".venv",
   "language": "python",
   "name": "python3"
  },
  "language_info": {
   "codemirror_mode": {
    "name": "ipython",
    "version": 3
   },
   "file_extension": ".py",
   "mimetype": "text/x-python",
   "name": "python",
   "nbconvert_exporter": "python",
   "pygments_lexer": "ipython3",
   "version": "3.10.12"
  }
 },
 "nbformat": 4,
 "nbformat_minor": 2
}
