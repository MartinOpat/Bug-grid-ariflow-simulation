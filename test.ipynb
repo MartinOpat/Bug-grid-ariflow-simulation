{
 "cells": [
  {
   "cell_type": "code",
   "execution_count": 122,
   "metadata": {},
   "outputs": [],
   "source": [
    "import numpy as np\n",
    "import matplotlib.pyplot as plt\n",
    "import pde\n",
    "import os\n"
   ]
  },
  {
   "cell_type": "markdown",
   "metadata": {},
   "source": [
    "# Boundary conditions test"
   ]
  },
  {
   "cell_type": "code",
   "execution_count": 123,
   "metadata": {},
   "outputs": [],
   "source": [
    "class CustomPDE(pde.PDEBase):\n",
    "    def __init__(self, boundary_mask):\n",
    "        self.boundary_mask = boundary_mask\n",
    "\n",
    "    def evolution_rate(self, state, t=0):\n",
    "        \"\"\" Custom PDE evolution with modified diffusion rate \"\"\"\n",
    "        laplacian = state.laplace(bc={\"value\": 0})  # zero Dirichlet boundary condition\n",
    "        rate = laplacian.copy()  # Default rate inside the grid\n",
    "        \n",
    "        # Reduce the rate of diffusion at grid to a quarter\n",
    "        rate.data[self.boundary_mask] *= 0.25\n",
    "        \n",
    "        return rate\n"
   ]
  },
  {
   "cell_type": "code",
   "execution_count": 124,
   "metadata": {},
   "outputs": [],
   "source": [
    "# generate grid\n",
    "grid_size = [64, 64]\n",
    "grid = pde.UnitGrid(grid_size)  \n",
    "state = pde.ScalarField(grid, data=0)\n",
    "\n",
    " # insert peaks in the centers\n",
    "state.insert([10.5, 10.5], 1)\n",
    "state.insert([32, 10.5], 1)\n",
    "state.insert([53.3, 10.5], 1)\n",
    "state.insert([10.5, 32], 1)\n",
    "state.insert([32, 32], 1) \n",
    "state.insert([53.3, 32], 1)\n",
    "state.insert([10.5, 53.3], 1)\n",
    "state.insert([32, 53.3], 1)\n",
    "state.insert([53.3, 53.3], 1)\n",
    "\n",
    "# Define the mask for grid lines with thickness 1\n",
    "x, y = grid.cell_coords[..., 0], grid.cell_coords[..., 1]\n",
    "section_size = grid_size[0] // 3\n",
    "boundary_mask = (\n",
    "    ((x % section_size <= 2) | (x % section_size >= section_size - 2)) |\n",
    "    ((y % section_size <= 2) | (y % section_size >= section_size - 2))\n",
    ")\n",
    "\n",
    "eq = CustomPDE(boundary_mask)\n",
    "storage = pde.MemoryStorage()\n",
    "result = eq.solve(state, t_range=30, dt=0.1, tracker=storage.tracker(0.1))"
   ]
  },
  {
   "cell_type": "code",
   "execution_count": 125,
   "metadata": {},
   "outputs": [
    {
     "name": "stderr",
     "output_type": "stream",
     "text": [
      "100%|██████████| 300/300 [00:17<00:00, 16.92it/s]\n"
     ]
    }
   ],
   "source": [
    "# Plot calculated results\n",
    "# WARNING: This will take a long time to run, uncomment with care\n",
    "pde.movie(storage, filename=\"output.mp4\", plot_args={\"vmin\": 0, \"vmax\": 0.5})"
   ]
  },
  {
   "cell_type": "markdown",
   "metadata": {},
   "source": [
    "# JIT test"
   ]
  },
  {
   "cell_type": "code",
   "execution_count": 126,
   "metadata": {},
   "outputs": [],
   "source": [
    "from pde.tools.numba import jit"
   ]
  },
  {
   "cell_type": "code",
   "execution_count": 127,
   "metadata": {},
   "outputs": [],
   "source": [
    "\n",
    "class KuramotoSivashinskyPDE(pde.PDEBase):\n",
    "\n",
    "    def __init__(self, diffusivity=1, bc=\"auto_periodic_neumann\", bc_laplace=\"auto_periodic_neumann\"):\n",
    "        \"\"\" initialize the class with a diffusivity and boundary conditions\n",
    "        for the actual field and its second derivative \"\"\"\n",
    "        self.diffusivity = diffusivity\n",
    "        self.bc = bc\n",
    "        self.bc_laplace = bc_laplace\n",
    "\n",
    "\n",
    "    def evolution_rate(self, state, t=0):\n",
    "        \"\"\" numpy implementation of the evolution equation \"\"\"\n",
    "        state_lapacian = state.laplace(bc=self.bc)\n",
    "        state_gradient = state.gradient(bc=\"auto_periodic_neumann\")\n",
    "        return (- state_lapacian.laplace(bc=self.bc_laplace)\n",
    "                - state_lapacian\n",
    "                - 0.5 * self.diffusivity * (state_gradient @ state_gradient))\n",
    "\n",
    "\n",
    "    def _make_pde_rhs_numba(self, state):\n",
    "        \"\"\" the numba-accelerated evolution equation \"\"\"\n",
    "        # make attributes locally available\n",
    "        diffusivity = self.diffusivity\n",
    "\n",
    "        # create operators\n",
    "        laplace_u = state.grid.make_operator(\"laplace\", bc=self.bc)\n",
    "        gradient_u = state.grid.make_operator(\"gradient\", bc=self.bc)\n",
    "        laplace2_u = state.grid.make_operator(\"laplace\", bc=self.bc_laplace)\n",
    "        dot = pde.VectorField(state.grid).make_dot_operator()\n",
    "\n",
    "        @jit\n",
    "        def pde_rhs(state_data, t=0):\n",
    "            \"\"\" compiled helper function evaluating right hand side \"\"\"\n",
    "            state_lapacian = laplace_u(state_data)\n",
    "            state_grad = gradient_u(state_data)\n",
    "            return (- laplace2_u(state_lapacian)\n",
    "                    - state_lapacian\n",
    "                    - diffusivity / 2 * dot(state_grad, state_grad))\n",
    "\n",
    "        return pde_rhs"
   ]
  },
  {
   "cell_type": "code",
   "execution_count": 128,
   "metadata": {},
   "outputs": [],
   "source": [
    "grid_size = [64, 64]\n",
    "grid = pde.UnitGrid(grid_size, periodic=True)\n",
    "state = pde.ScalarField(grid, data=np.random.rand(*grid.shape))\n",
    "\n",
    "eq = KuramotoSivashinskyPDE(diffusivity=0.1)\n",
    "storage = pde.MemoryStorage()\n",
    "result = eq.solve(state, t_range=33, dt=0.01, tracker=storage.tracker(0.1))"
   ]
  },
  {
   "cell_type": "code",
   "execution_count": 129,
   "metadata": {},
   "outputs": [
    {
     "name": "stderr",
     "output_type": "stream",
     "text": [
      "  0%|          | 0/331 [00:00<?, ?it/s]"
     ]
    },
    {
     "name": "stderr",
     "output_type": "stream",
     "text": [
      "100%|██████████| 331/331 [00:20<00:00, 16.30it/s]\n"
     ]
    }
   ],
   "source": [
    "# Plot calculated results\n",
    "# WARNING: This will take a long time to run, uncomment with care\n",
    "\n",
    "# Set the scale of the colorbar to be fixed\n",
    "pde.movie(storage, filename=\"output2.mp4\", plot_args={\"vmin\": -30, \"vmax\": 30})"
   ]
  }
 ],
 "metadata": {
  "kernelspec": {
   "display_name": ".venv",
   "language": "python",
   "name": "python3"
  },
  "language_info": {
   "codemirror_mode": {
    "name": "ipython",
    "version": 3
   },
   "file_extension": ".py",
   "mimetype": "text/x-python",
   "name": "python",
   "nbconvert_exporter": "python",
   "pygments_lexer": "ipython3",
   "version": "3.10.12"
  }
 },
 "nbformat": 4,
 "nbformat_minor": 2
}
