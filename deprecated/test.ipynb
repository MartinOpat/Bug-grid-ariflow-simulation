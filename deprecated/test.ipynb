{
 "cells": [
  {
   "cell_type": "code",
   "execution_count": 21,
   "metadata": {},
   "outputs": [],
   "source": [
    "import numpy as np\n",
    "import matplotlib.pyplot as plt\n",
    "import pde\n",
    "import os\n"
   ]
  },
  {
   "cell_type": "markdown",
   "metadata": {},
   "source": [
    "# Boundary conditions test"
   ]
  },
  {
   "cell_type": "code",
   "execution_count": 22,
   "metadata": {},
   "outputs": [],
   "source": [
    "class CustomPDE(pde.PDEBase):\n",
    "    def __init__(self, boundary_mask):\n",
    "        self.boundary_mask = boundary_mask\n",
    "\n",
    "    def evolution_rate(self, state, t=0):\n",
    "        \"\"\" Custom PDE evolution with modified diffusion rate \"\"\"\n",
    "        laplacian = state.laplace(bc={\"value\": 0})  # zero Dirichlet boundary condition\n",
    "        rate = laplacian.copy()  # Default rate inside the grid\n",
    "        \n",
    "        # Reduce the rate of diffusion at grid to a quarter\n",
    "        rate.data[self.boundary_mask] *= 0.25\n",
    "        \n",
    "        return rate\n"
   ]
  },
  {
   "cell_type": "code",
   "execution_count": 23,
   "metadata": {},
   "outputs": [],
   "source": [
    "# generate grid\n",
    "grid_size = [64, 64]\n",
    "grid = pde.UnitGrid(grid_size)  \n",
    "state = pde.ScalarField(grid, data=0)\n",
    "\n",
    " # insert peaks in the centers\n",
    "state.insert([10.5, 10.5], 1)\n",
    "state.insert([32, 10.5], 1)\n",
    "state.insert([53.3, 10.5], 1)\n",
    "state.insert([10.5, 32], 1)\n",
    "state.insert([32, 32], 1) \n",
    "state.insert([53.3, 32], 1)\n",
    "state.insert([10.5, 53.3], 1)\n",
    "state.insert([32, 53.3], 1)\n",
    "state.insert([53.3, 53.3], 1)\n",
    "\n",
    "# Define the mask for grid lines with thickness 1\n",
    "x, y = grid.cell_coords[..., 0], grid.cell_coords[..., 1]\n",
    "section_size = grid_size[0] // 3\n",
    "boundary_mask = (\n",
    "    ((x % section_size <= 2) | (x % section_size >= section_size - 2)) |\n",
    "    ((y % section_size <= 2) | (y % section_size >= section_size - 2))\n",
    ")\n",
    "\n",
    "eq = CustomPDE(boundary_mask)\n",
    "storage = pde.MemoryStorage()\n",
    "result = eq.solve(state, t_range=30, dt=0.1, tracker=storage.tracker(0.1))"
   ]
  },
  {
   "cell_type": "code",
   "execution_count": 24,
   "metadata": {},
   "outputs": [
    {
     "name": "stderr",
     "output_type": "stream",
     "text": [
      "100%|██████████| 300/300 [00:06<00:00, 44.50it/s]\n"
     ]
    }
   ],
   "source": [
    "# Plot calculated results\n",
    "# WARNING: This will take a long time to run, uncomment with care\n",
    "pde.movie(storage, filename=\"output.mp4\")"
   ]
  },
  {
   "cell_type": "markdown",
   "metadata": {},
   "source": [
    "# JIT test"
   ]
  },
  {
   "cell_type": "code",
   "execution_count": 25,
   "metadata": {},
   "outputs": [],
   "source": [
    "from pde.tools.numba import jit"
   ]
  },
  {
   "cell_type": "code",
   "execution_count": 26,
   "metadata": {},
   "outputs": [],
   "source": [
    "\n",
    "class KuramotoSivashinskyPDE(pde.PDEBase):\n",
    "\n",
    "    def __init__(self, diffusivity=1, bc=\"auto_periodic_neumann\", bc_laplace=\"auto_periodic_neumann\"):\n",
    "        \"\"\" initialize the class with a diffusivity and boundary conditions\n",
    "        for the actual field and its second derivative \"\"\"\n",
    "        self.diffusivity = diffusivity\n",
    "        self.bc = bc\n",
    "        self.bc_laplace = bc_laplace\n",
    "\n",
    "\n",
    "    def evolution_rate(self, state, t=0):\n",
    "        \"\"\" numpy implementation of the evolution equation \"\"\"\n",
    "        state_lapacian = state.laplace(bc=self.bc)\n",
    "        state_gradient = state.gradient(bc=\"auto_periodic_neumann\")\n",
    "        return (- state_lapacian.laplace(bc=self.bc_laplace)\n",
    "                - state_lapacian\n",
    "                - 0.5 * self.diffusivity * (state_gradient @ state_gradient))\n",
    "\n",
    "\n",
    "    def _make_pde_rhs_numba(self, state):\n",
    "        \"\"\" the numba-accelerated evolution equation \"\"\"\n",
    "        # make attributes locally available\n",
    "        diffusivity = self.diffusivity\n",
    "\n",
    "        # create operators\n",
    "        laplace_u = state.grid.make_operator(\"laplace\", bc=self.bc)\n",
    "        gradient_u = state.grid.make_operator(\"gradient\", bc=self.bc)\n",
    "        laplace2_u = state.grid.make_operator(\"laplace\", bc=self.bc_laplace)\n",
    "        dot = pde.VectorField(state.grid).make_dot_operator()\n",
    "        dim = state.grid.dim\n",
    "\n",
    "        @jit\n",
    "        def pde_rhs(state_data, t=0):\n",
    "            \"\"\" compiled helper function evaluating right hand side \"\"\"\n",
    "            state_lapacian = laplace_u(state_data)\n",
    "            state_grad = gradient_u(state_data)\n",
    "            result = - laplace2_u(state_lapacian) - state_lapacian\n",
    "\n",
    "            for i in range(state_data.size):\n",
    "                for j in range(dim):\n",
    "                    result.flat[i] -= diffusivity / 2 * state_grad[j].flat[i]**2\n",
    "\n",
    "            return result\n",
    "\n",
    "        return pde_rhs"
   ]
  },
  {
   "cell_type": "code",
   "execution_count": 27,
   "metadata": {},
   "outputs": [],
   "source": [
    "grid_size = [64, 64]\n",
    "grid = pde.UnitGrid(grid_size, periodic=True)\n",
    "state = pde.ScalarField(grid, data=np.random.rand(*grid.shape))\n",
    "\n",
    "eq = KuramotoSivashinskyPDE(diffusivity=0.1)\n",
    "storage = pde.MemoryStorage()\n",
    "result = eq.solve(state, t_range=33, dt=0.001, tracker=storage.tracker(0.1))"
   ]
  },
  {
   "cell_type": "code",
   "execution_count": 28,
   "metadata": {},
   "outputs": [],
   "source": [
    "# Plot calculated results\n",
    "# WARNING: This will take a long time to run, uncomment with care\n",
    "\n",
    "# pde.movie(storage, filename=\"output2.mp4\", plot_args={\"vmin\": -30, \"vmax\": 30})"
   ]
  },
  {
   "cell_type": "markdown",
   "metadata": {},
   "source": [
    "# 3D test"
   ]
  },
  {
   "cell_type": "code",
   "execution_count": 29,
   "metadata": {},
   "outputs": [],
   "source": [
    "# generate grid\n",
    "grid_size = [64, 64, 64]\n",
    "grid = pde.UnitGrid(grid_size)  \n",
    "state = pde.ScalarField(grid, data=0)\n",
    "state.insert([32, 32, 32], 1)  # insert peak \n",
    "\n",
    "# Define the mask for grid lines with thickness of 5 in 3D\n",
    "x, y, z = grid.cell_coords[..., 0], grid.cell_coords[..., 1], grid.cell_coords[..., 2]\n",
    "section_size = grid_size[0] // 3\n",
    "boundary_mask = (\n",
    "    ((x % section_size <= 2) | (x % section_size >= section_size - 2)) |\n",
    "    ((y % section_size <= 2) | (y % section_size >= section_size - 2)) |\n",
    "    ((z % section_size <= 2) | (z % section_size >= section_size - 2))\n",
    ")\n",
    "\n",
    "eq = CustomPDE(boundary_mask)\n",
    "storage = pde.MemoryStorage()\n",
    "result = eq.solve(state, t_range=30, dt=0.1, tracker=storage.tracker(0.1))\n"
   ]
  },
  {
   "cell_type": "code",
   "execution_count": 30,
   "metadata": {},
   "outputs": [
    {
     "name": "stdout",
     "output_type": "stream",
     "text": [
      "res ScalarField(grid=UnitGrid(shape=(64, 64), periodic=[False, False]), data=Array(64, 64))\n"
     ]
    },
    {
     "name": "stderr",
     "output_type": "stream",
     "text": [
      "100%|██████████| 300/300 [00:06<00:00, 48.70it/s]\n"
     ]
    }
   ],
   "source": [
    "# Plot calculated results in 3D\n",
    "# WARNING: This will take even longer time to run, uncomment with care\n",
    "\n",
    "# slice at depth 32\n",
    "# print(storage[0].data[32].shape)\n",
    "# print(storage[0].data[32])\n",
    "# print(storage[0].data[:,:,32])\n",
    "# print(storage[0])\n",
    "\n",
    "# @jit\n",
    "def get_slice(storage, z=32):\n",
    "    # Transform the 3D storage data to 2D slice at depth z\n",
    "    grid_size = [64, 64]\n",
    "    grid = pde.UnitGrid(grid_size)  \n",
    "    \n",
    "    new_data = []\n",
    "    for time in range(len(storage)):\n",
    "        data=storage[time].data[:,:,z]\n",
    "        new_data.append(data)\n",
    "    new_data = np.array(new_data)\n",
    "    field_obj = pde.ScalarField(grid, data=new_data[0])\n",
    "    res = pde.storage.memory.MemoryStorage(times=list(range(len(storage))), data=new_data, field_obj=field_obj)\n",
    "    print(\"res\",res[0])\n",
    "        \n",
    "    return res\n",
    "\n",
    "\n",
    "new_storage = get_slice(storage, 28)\n",
    "pde.movie(new_storage, filename=\"output3.mp4\", plot_args={\"vmin\": 0, \"vmax\": 0.01,})"
   ]
  }
 ],
 "metadata": {
  "kernelspec": {
   "display_name": ".venv",
   "language": "python",
   "name": "python3"
  },
  "language_info": {
   "codemirror_mode": {
    "name": "ipython",
    "version": 3
   },
   "file_extension": ".py",
   "mimetype": "text/x-python",
   "name": "python",
   "nbconvert_exporter": "python",
   "pygments_lexer": "ipython3",
   "version": "3.10.12"
  }
 },
 "nbformat": 4,
 "nbformat_minor": 2
}
